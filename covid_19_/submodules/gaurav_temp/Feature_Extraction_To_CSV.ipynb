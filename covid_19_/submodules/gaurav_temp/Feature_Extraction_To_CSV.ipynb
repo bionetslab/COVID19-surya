{
 "cells": [
  {
   "cell_type": "code",
   "execution_count": 1,
   "metadata": {},
   "outputs": [],
   "source": [
    "import os\n",
    "from tensorflow.keras.applications.vgg16 import VGG16, preprocess_input\n",
    "from tensorflow.keras.preprocessing.image import load_img, img_to_array\n",
    "from tensorflow.keras.models import Model\n",
    "import csv"
   ]
  },
  {
   "cell_type": "code",
   "execution_count": 2,
   "metadata": {},
   "outputs": [],
   "source": [
    "# load Model\n",
    "model = VGG16()"
   ]
  },
  {
   "cell_type": "code",
   "execution_count": 5,
   "metadata": {},
   "outputs": [],
   "source": [
    "model = Model(inputs=model.inputs, outputs=model.layers[-2].output)\n",
    "\n",
    "features = {}"
   ]
  },
  {
   "cell_type": "code",
   "execution_count": 8,
   "metadata": {},
   "outputs": [
    {
     "name": "stdout",
     "output_type": "stream",
     "text": [
      "D:/PROJECT_BIOMEDICAL/Data_Set/rxrx1/images/HEPG2-08/Plate1/B02_s1_w1.png\n",
      "D:/PROJECT_BIOMEDICAL/Data_Set/rxrx1/images/HEPG2-08/Plate1/B02_s1_w2.png\n",
      "D:/PROJECT_BIOMEDICAL/Data_Set/rxrx1/images/HEPG2-08/Plate1/B02_s1_w3.png\n",
      "D:/PROJECT_BIOMEDICAL/Data_Set/rxrx1/images/HEPG2-08/Plate1/B02_s1_w4.png\n",
      "D:/PROJECT_BIOMEDICAL/Data_Set/rxrx1/images/HEPG2-08/Plate1/B02_s1_w5.png\n",
      "D:/PROJECT_BIOMEDICAL/Data_Set/rxrx1/images/HEPG2-08/Plate1/B02_s1_w6.png\n",
      "D:/PROJECT_BIOMEDICAL/Data_Set/rxrx1/images/HEPG2-08/Plate1/B02_s2_w1.png\n",
      "D:/PROJECT_BIOMEDICAL/Data_Set/rxrx1/images/HEPG2-08/Plate1/B02_s2_w2.png\n",
      "D:/PROJECT_BIOMEDICAL/Data_Set/rxrx1/images/HEPG2-08/Plate1/B02_s2_w3.png\n",
      "D:/PROJECT_BIOMEDICAL/Data_Set/rxrx1/images/HEPG2-08/Plate1/B02_s2_w4.png\n",
      "D:/PROJECT_BIOMEDICAL/Data_Set/rxrx1/images/HEPG2-08/Plate1/B02_s2_w5.png\n",
      "D:/PROJECT_BIOMEDICAL/Data_Set/rxrx1/images/HEPG2-08/Plate1/B02_s2_w6.png\n",
      "D:/PROJECT_BIOMEDICAL/Data_Set/rxrx1/images/HEPG2-08/Plate1/B03_s1_w1.png\n",
      "D:/PROJECT_BIOMEDICAL/Data_Set/rxrx1/images/HEPG2-08/Plate1/B03_s1_w2.png\n",
      "D:/PROJECT_BIOMEDICAL/Data_Set/rxrx1/images/HEPG2-08/Plate1/B03_s1_w3.png\n",
      "D:/PROJECT_BIOMEDICAL/Data_Set/rxrx1/images/HEPG2-08/Plate1/B03_s1_w4.png\n",
      "D:/PROJECT_BIOMEDICAL/Data_Set/rxrx1/images/HEPG2-08/Plate1/B03_s1_w5.png\n",
      "D:/PROJECT_BIOMEDICAL/Data_Set/rxrx1/images/HEPG2-08/Plate1/B03_s1_w6.png\n"
     ]
    }
   ],
   "source": [
    "with open('D:/PROJECT_BIOMEDICAL/Data_Set/rxrx1/metadata.csv', 'r') as csv_file:\n",
    "    csv_reader = csv.DictReader(csv_file)\n",
    "    t = 0\n",
    "    for line in csv_reader:\n",
    "        for x in range(1, 7):\n",
    "            path = f\"D:/PROJECT_BIOMEDICAL/Data_Set/rxrx1/images/{line['experiment']}/Plate{line['plate']}/{line['well']}_s{line['site']}_w{x}.png\"\n",
    "            image_path = path\n",
    "            \n",
    "            # Print the path that we are working(just to keep track of process)\n",
    "            print(image_path)\n",
    "\n",
    "            # load the image\n",
    "            img = load_img(image_path, target_size=(224, 224))\n",
    "\n",
    "            # convert pixels to numpy\n",
    "            img = img_to_array(img)\n",
    "\n",
    "            # reshape the image for the model\n",
    "            img = img.reshape((1, img.shape[0], img.shape[1], img.shape[2]))\n",
    "\n",
    "            # prerocess the image\n",
    "            img = preprocess_input(img)\n",
    "\n",
    "            # extract features\n",
    "            feature = model.predict(img, verbose=0)\n",
    "\n",
    "            # store features\n",
    "            features[image_path] = feature\n",
    "\n",
    "        if t > 1:\n",
    "            break \n",
    "\n",
    "        t += 1"
   ]
  },
  {
   "cell_type": "code",
   "execution_count": 10,
   "metadata": {},
   "outputs": [],
   "source": [
    "# Save features as a CSV file\n",
    "#with open('features.csv', mode='w') as csv_file:\n",
    "with open('D:/PROJECT_BIOMEDICAL/Data_Set/rxrx1/features.csv', mode='w') as csv_file:\n",
    "\n",
    "    fieldnames = ['image_path', 'feature']\n",
    "    writer = csv.DictWriter(csv_file, fieldnames=fieldnames)\n",
    "\n",
    "    writer.writeheader()\n",
    "    for image_path, feature in features.items():\n",
    "        writer.writerow({'image_path': image_path, 'feature': feature})"
   ]
  },
  {
   "cell_type": "code",
   "execution_count": null,
   "metadata": {},
   "outputs": [],
   "source": []
  }
 ],
 "metadata": {
  "kernelspec": {
   "display_name": "Python 3",
   "language": "python",
   "name": "python3"
  },
  "language_info": {
   "codemirror_mode": {
    "name": "ipython",
    "version": 3
   },
   "file_extension": ".py",
   "mimetype": "text/x-python",
   "name": "python",
   "nbconvert_exporter": "python",
   "pygments_lexer": "ipython3",
   "version": "3.8.5"
  }
 },
 "nbformat": 4,
 "nbformat_minor": 4
}
