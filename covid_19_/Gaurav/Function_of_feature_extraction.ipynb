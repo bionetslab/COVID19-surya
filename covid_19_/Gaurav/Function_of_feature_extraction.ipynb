{
 "cells": [
  {
   "cell_type": "markdown",
   "metadata": {},
   "source": [
    "# Feature_Extraction"
   ]
  },
  {
   "cell_type": "markdown",
   "metadata": {},
   "source": [
    "This part is a moduler part or we can say this is a function called extract_features() with (image_files, model, csv_file_path_features, csv_file_path_df) inputs.\n",
    "in this 'csv_file_path_features' is the features lolcation Where will features be saved as CSV without conversion to DataFrame\n",
    "And 'csv_file_path_df' is features location where features as dataframes will be saved in CSV file"
   ]
  },
  {
   "cell_type": "markdown",
   "metadata": {},
   "source": [
    "#### This function returns Extracted features as dataframe."
   ]
  },
  {
   "cell_type": "code",
   "execution_count": 21,
   "metadata": {},
   "outputs": [],
   "source": [
    "import os\n",
    "import glob\n",
    "import pandas as pd\n",
    "import csv\n",
    "from tensorflow.keras.applications.vgg16 import VGG16, preprocess_input\n",
    "from tensorflow.keras.preprocessing.image import load_img, img_to_array\n",
    "from tensorflow.keras.models import Model\n",
    "\n",
    "\n",
    "def extract_features(image_files, model, csv_file_path_features, csv_file_path_df):\n",
    "    features = []\n",
    "\n",
    "    for image_path in image_files:\n",
    "        # Print the path that we are working on (just to keep track of the process)\n",
    "        print(image_path)\n",
    "\n",
    "        # Load the image\n",
    "        img = load_img(image_path, target_size=(224, 224))\n",
    "\n",
    "        # Convert pixels to numpy\n",
    "        img = img_to_array(img)\n",
    "\n",
    "        # Reshape the image for the model\n",
    "        img = img.reshape((1, img.shape[0], img.shape[1], img.shape[2]))\n",
    "\n",
    "        # Preprocess the image\n",
    "        img = preprocess_input(img)\n",
    "\n",
    "        # Extract features\n",
    "        feature = model.predict(img, verbose=0).flatten()\n",
    "\n",
    "        # Store features\n",
    "        features.append(feature)\n",
    "\n",
    "    # Save features as CSV\n",
    "    fieldnames = ['image_path', 'feature']\n",
    "    with open(csv_file_path_features, mode='w', newline='') as csv_file:\n",
    "        writer = csv.DictWriter(csv_file, fieldnames=fieldnames)\n",
    "        writer.writeheader()\n",
    "        for image_path, feature in zip(image_files, features):\n",
    "            writer.writerow({'image_path': image_path, 'feature': feature})\n",
    "\n",
    "    # Create DataFrame from features\n",
    "    features_df = pd.DataFrame(features)\n",
    "    features_df.columns = [f'feature_{i}' for i in range(features_df.shape[1])]\n",
    "\n",
    "    # Add image_path column\n",
    "    features_df['image_path'] = image_files\n",
    "\n",
    "    # Save DataFrame to a CSV file\n",
    "    features_df.to_csv(csv_file_path_df, index=False)\n",
    "    print(\"Features DataFrame saved to:\", csv_file_path_df)\n",
    "\n",
    "    return features_df"
   ]
  },
  {
   "cell_type": "markdown",
   "metadata": {},
   "source": [
    "##### Here is the example usecase for this feature"
   ]
  },
  {
   "cell_type": "markdown",
   "metadata": {},
   "source": [
    "1. Import the required libraries and define the function as shown up\n",
    "2. Create an instance of the desired model, for example, VGG16\n",
    "3. Define the image folder where your images are located\n",
    "4. Get a list of image files in the folder using the glob module\n",
    "5. Define the csv folder where your csv will be stored\n",
    "6. Call the extract_features() function, passing the image files, the model and csv file locations for features and datareame  as arguments"
   ]
  },
  {
   "cell_type": "code",
   "execution_count": 22,
   "metadata": {},
   "outputs": [
    {
     "name": "stdout",
     "output_type": "stream",
     "text": [
      "C:/Users/Gaurav/Desktop/output\\HUVEC-04_plate_1_wall_B02_site_1.png\n",
      "C:/Users/Gaurav/Desktop/output\\HUVEC-04_plate_1_wall_B02_site_2.png\n",
      "C:/Users/Gaurav/Desktop/output\\HUVEC-04_plate_1_wall_B03_site_1.png\n",
      "C:/Users/Gaurav/Desktop/output\\HUVEC-04_plate_1_wall_B03_site_2.png\n",
      "C:/Users/Gaurav/Desktop/output\\HUVEC-04_plate_2_wall_B02_site_1.png\n",
      "C:/Users/Gaurav/Desktop/output\\HUVEC-04_plate_2_wall_B02_site_2.png\n",
      "C:/Users/Gaurav/Desktop/output\\HUVEC-04_plate_2_wall_B03_site_1.png\n",
      "C:/Users/Gaurav/Desktop/output\\HUVEC-04_plate_2_wall_B03_site_2.png\n",
      "C:/Users/Gaurav/Desktop/output\\HUVEC-04_plate_3_wall_B02_site_1.png\n",
      "C:/Users/Gaurav/Desktop/output\\HUVEC-04_plate_3_wall_B02_site_2.png\n",
      "C:/Users/Gaurav/Desktop/output\\HUVEC-04_plate_3_wall_B03_site_1.png\n",
      "C:/Users/Gaurav/Desktop/output\\HUVEC-04_plate_3_wall_B03_site_2.png\n",
      "C:/Users/Gaurav/Desktop/output\\HUVEC-04_plate_4_wall_B02_site_1.png\n",
      "C:/Users/Gaurav/Desktop/output\\HUVEC-04_plate_4_wall_B02_site_2.png\n",
      "C:/Users/Gaurav/Desktop/output\\HUVEC-04_plate_4_wall_B03_site_1.png\n",
      "C:/Users/Gaurav/Desktop/output\\HUVEC-04_plate_4_wall_B03_site_2.png\n",
      "Features DataFrame saved to: C:/Users/Gaurav/Desktop/output/CSV/features_df.csv\n",
      "   feature_0  feature_1  feature_2  feature_3  feature_4  feature_5  \\\n",
      "0   1.110248   0.221263        0.0   0.000000   1.500829        0.0   \n",
      "1   1.035793   0.000000        0.0   0.000000   0.778953        0.0   \n",
      "2   0.000000   0.752672        0.0   0.000000   2.438864        0.0   \n",
      "3   0.398320   0.000000        0.0   0.000000   0.793584        0.0   \n",
      "4   1.289979   0.593864        0.0   0.435864   1.568415        0.0   \n",
      "\n",
      "   feature_6  feature_7  feature_8  feature_9  ...  feature_4087  \\\n",
      "0   0.256317   1.116813        0.0   0.000000  ...           0.0   \n",
      "1   0.344648   0.886414        0.0   0.222125  ...           0.0   \n",
      "2   0.000000   0.636733        0.0   0.000000  ...           0.0   \n",
      "3   0.000000   0.936237        0.0   0.000000  ...           0.0   \n",
      "4   0.523552   0.590476        0.0   0.000000  ...           0.0   \n",
      "\n",
      "   feature_4088  feature_4089  feature_4090  feature_4091  feature_4092  \\\n",
      "0           0.0           0.0           0.0      0.184962      0.000000   \n",
      "1           0.0           0.0           0.0      0.000000      0.000000   \n",
      "2           0.0           0.0           0.0      0.000000      0.000000   \n",
      "3           0.0           0.0           0.0      0.000000      0.000000   \n",
      "4           0.0           0.0           0.0      0.000000      0.019979   \n",
      "\n",
      "   feature_4093  feature_4094  feature_4095  \\\n",
      "0           0.0      0.389794           0.0   \n",
      "1           0.0      0.932673           0.0   \n",
      "2           0.0      0.000000           0.0   \n",
      "3           0.0      0.000000           0.0   \n",
      "4           0.0      0.000000           0.0   \n",
      "\n",
      "                                          image_path  \n",
      "0  C:/Users/Gaurav/Desktop/output\\HUVEC-04_plate_...  \n",
      "1  C:/Users/Gaurav/Desktop/output\\HUVEC-04_plate_...  \n",
      "2  C:/Users/Gaurav/Desktop/output\\HUVEC-04_plate_...  \n",
      "3  C:/Users/Gaurav/Desktop/output\\HUVEC-04_plate_...  \n",
      "4  C:/Users/Gaurav/Desktop/output\\HUVEC-04_plate_...  \n",
      "\n",
      "[5 rows x 4097 columns]\n"
     ]
    }
   ],
   "source": [
    "# Define the model\n",
    "model = VGG16()\n",
    "model = Model(inputs=model.inputs, outputs=model.layers[-2].output)\n",
    "\n",
    "# Define the image folder\n",
    "image_folder = \"C:/Users/Gaurav/Desktop/output/\"\n",
    "\n",
    "# Get a list of image files in the folder\n",
    "image_files = glob.glob(image_folder + \"*.png\")\n",
    "\n",
    "# Define the CSV file path to save the features\n",
    "csv_file_path_df = \"C:/Users/Gaurav/Desktop/output/CSV/features_df.csv\"\n",
    "csv_file_path_features = \"C:/Users/Gaurav/Desktop/output/CSV/features_features.csv\"\n",
    "\n",
    "# Extract features using the specified model\n",
    "features_df = extract_features(image_files, model, csv_file_path_features, csv_file_path_df)\n",
    "\n",
    "# Use the features DataFrame as needed in the subsequent part of code\n",
    "print(features_df.head())"
   ]
  },
  {
   "cell_type": "code",
   "execution_count": null,
   "metadata": {},
   "outputs": [],
   "source": []
  }
 ],
 "metadata": {
  "kernelspec": {
   "display_name": "Python 3",
   "language": "python",
   "name": "python3"
  },
  "language_info": {
   "codemirror_mode": {
    "name": "ipython",
    "version": 3
   },
   "file_extension": ".py",
   "mimetype": "text/x-python",
   "name": "python",
   "nbconvert_exporter": "python",
   "pygments_lexer": "ipython3",
   "version": "3.8.5"
  }
 },
 "nbformat": 4,
 "nbformat_minor": 4
}
